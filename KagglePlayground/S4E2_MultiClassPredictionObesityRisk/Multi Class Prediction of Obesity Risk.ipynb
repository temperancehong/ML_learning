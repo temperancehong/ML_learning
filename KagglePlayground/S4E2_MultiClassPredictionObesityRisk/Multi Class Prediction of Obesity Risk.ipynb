{
 "cells": [
  {
   "cell_type": "markdown",
   "source": [
    "import dependencies and check data"
   ],
   "metadata": {
    "collapsed": false
   }
  },
  {
   "cell_type": "code",
   "execution_count": 1,
   "metadata": {
    "collapsed": true
   },
   "outputs": [],
   "source": [
    "import numpy as np\n",
    "\n",
    "# data processing\n",
    "import pandas as pd\n",
    "\n",
    "# data visualization\n",
    "import seaborn as sns\n",
    "%matplotlib inline\n",
    "from matplotlib import pyplot as plt\n",
    "from matplotlib import style\n",
    "\n",
    "# Algorithms\n",
    "from sklearn import linear_model\n",
    "from sklearn.linear_model import LogisticRegression\n",
    "from sklearn.ensemble import RandomForestClassifier\n",
    "from sklearn.linear_model import Perceptron\n",
    "from sklearn.linear_model import SGDClassifier\n",
    "from sklearn.tree import DecisionTreeClassifier\n",
    "from sklearn.neighbors import KNeighborsClassifier\n",
    "from sklearn.svm import SVC, LinearSVC\n",
    "from sklearn.naive_bayes import GaussianNB"
   ]
  },
  {
   "cell_type": "code",
   "execution_count": 2,
   "outputs": [],
   "source": [
    "import warnings\n",
    "warnings.filterwarnings('ignore')"
   ],
   "metadata": {
    "collapsed": false
   }
  },
  {
   "cell_type": "code",
   "execution_count": 4,
   "outputs": [],
   "source": [
    "# loading the data\n",
    "train_df = pd.read_csv(\"playground-series-s4e2/train.csv\")\n",
    "test_df = pd.read_csv(\"playground-series-s4e2/test.csv\")"
   ],
   "metadata": {
    "collapsed": false
   }
  },
  {
   "cell_type": "code",
   "execution_count": 6,
   "outputs": [
    {
     "data": {
      "text/plain": "   id  Gender        Age    Height      Weight family_history_with_overweight  \\\n0   0    Male  24.443011  1.699998   81.669950                            yes   \n1   1  Female  18.000000  1.560000   57.000000                            yes   \n2   2  Female  18.000000  1.711460   50.165754                            yes   \n3   3  Female  20.952737  1.710730  131.274851                            yes   \n4   4    Male  31.641081  1.914186   93.798055                            yes   \n\n  FAVC      FCVC       NCP        CAEC SMOKE      CH2O SCC       FAF  \\\n0  yes  2.000000  2.983297   Sometimes    no  2.763573  no  0.000000   \n1  yes  2.000000  3.000000  Frequently    no  2.000000  no  1.000000   \n2  yes  1.880534  1.411685   Sometimes    no  1.910378  no  0.866045   \n3  yes  3.000000  3.000000   Sometimes    no  1.674061  no  1.467863   \n4  yes  2.679664  1.971472   Sometimes    no  1.979848  no  1.967973   \n\n        TUE       CALC                 MTRANS           NObeyesdad  \n0  0.976473  Sometimes  Public_Transportation  Overweight_Level_II  \n1  1.000000         no             Automobile        Normal_Weight  \n2  1.673584         no  Public_Transportation  Insufficient_Weight  \n3  0.780199  Sometimes  Public_Transportation     Obesity_Type_III  \n4  0.931721  Sometimes  Public_Transportation  Overweight_Level_II  ",
      "text/html": "<div>\n<style scoped>\n    .dataframe tbody tr th:only-of-type {\n        vertical-align: middle;\n    }\n\n    .dataframe tbody tr th {\n        vertical-align: top;\n    }\n\n    .dataframe thead th {\n        text-align: right;\n    }\n</style>\n<table border=\"1\" class=\"dataframe\">\n  <thead>\n    <tr style=\"text-align: right;\">\n      <th></th>\n      <th>id</th>\n      <th>Gender</th>\n      <th>Age</th>\n      <th>Height</th>\n      <th>Weight</th>\n      <th>family_history_with_overweight</th>\n      <th>FAVC</th>\n      <th>FCVC</th>\n      <th>NCP</th>\n      <th>CAEC</th>\n      <th>SMOKE</th>\n      <th>CH2O</th>\n      <th>SCC</th>\n      <th>FAF</th>\n      <th>TUE</th>\n      <th>CALC</th>\n      <th>MTRANS</th>\n      <th>NObeyesdad</th>\n    </tr>\n  </thead>\n  <tbody>\n    <tr>\n      <th>0</th>\n      <td>0</td>\n      <td>Male</td>\n      <td>24.443011</td>\n      <td>1.699998</td>\n      <td>81.669950</td>\n      <td>yes</td>\n      <td>yes</td>\n      <td>2.000000</td>\n      <td>2.983297</td>\n      <td>Sometimes</td>\n      <td>no</td>\n      <td>2.763573</td>\n      <td>no</td>\n      <td>0.000000</td>\n      <td>0.976473</td>\n      <td>Sometimes</td>\n      <td>Public_Transportation</td>\n      <td>Overweight_Level_II</td>\n    </tr>\n    <tr>\n      <th>1</th>\n      <td>1</td>\n      <td>Female</td>\n      <td>18.000000</td>\n      <td>1.560000</td>\n      <td>57.000000</td>\n      <td>yes</td>\n      <td>yes</td>\n      <td>2.000000</td>\n      <td>3.000000</td>\n      <td>Frequently</td>\n      <td>no</td>\n      <td>2.000000</td>\n      <td>no</td>\n      <td>1.000000</td>\n      <td>1.000000</td>\n      <td>no</td>\n      <td>Automobile</td>\n      <td>Normal_Weight</td>\n    </tr>\n    <tr>\n      <th>2</th>\n      <td>2</td>\n      <td>Female</td>\n      <td>18.000000</td>\n      <td>1.711460</td>\n      <td>50.165754</td>\n      <td>yes</td>\n      <td>yes</td>\n      <td>1.880534</td>\n      <td>1.411685</td>\n      <td>Sometimes</td>\n      <td>no</td>\n      <td>1.910378</td>\n      <td>no</td>\n      <td>0.866045</td>\n      <td>1.673584</td>\n      <td>no</td>\n      <td>Public_Transportation</td>\n      <td>Insufficient_Weight</td>\n    </tr>\n    <tr>\n      <th>3</th>\n      <td>3</td>\n      <td>Female</td>\n      <td>20.952737</td>\n      <td>1.710730</td>\n      <td>131.274851</td>\n      <td>yes</td>\n      <td>yes</td>\n      <td>3.000000</td>\n      <td>3.000000</td>\n      <td>Sometimes</td>\n      <td>no</td>\n      <td>1.674061</td>\n      <td>no</td>\n      <td>1.467863</td>\n      <td>0.780199</td>\n      <td>Sometimes</td>\n      <td>Public_Transportation</td>\n      <td>Obesity_Type_III</td>\n    </tr>\n    <tr>\n      <th>4</th>\n      <td>4</td>\n      <td>Male</td>\n      <td>31.641081</td>\n      <td>1.914186</td>\n      <td>93.798055</td>\n      <td>yes</td>\n      <td>yes</td>\n      <td>2.679664</td>\n      <td>1.971472</td>\n      <td>Sometimes</td>\n      <td>no</td>\n      <td>1.979848</td>\n      <td>no</td>\n      <td>1.967973</td>\n      <td>0.931721</td>\n      <td>Sometimes</td>\n      <td>Public_Transportation</td>\n      <td>Overweight_Level_II</td>\n    </tr>\n  </tbody>\n</table>\n</div>"
     },
     "execution_count": 6,
     "metadata": {},
     "output_type": "execute_result"
    }
   ],
   "source": [
    "train_df.head()"
   ],
   "metadata": {
    "collapsed": false
   }
  },
  {
   "cell_type": "code",
   "execution_count": 7,
   "outputs": [
    {
     "data": {
      "text/plain": "      id  Gender        Age    Height      Weight  \\\n0  20758    Male  26.899886  1.848294  120.644178   \n1  20759  Female  21.000000  1.600000   66.000000   \n2  20760  Female  26.000000  1.643355  111.600553   \n3  20761    Male  20.979254  1.553127  103.669116   \n4  20762  Female  26.000000  1.627396  104.835346   \n\n  family_history_with_overweight FAVC      FCVC       NCP       CAEC SMOKE  \\\n0                            yes  yes  2.938616  3.000000  Sometimes    no   \n1                            yes  yes  2.000000  1.000000  Sometimes    no   \n2                            yes  yes  3.000000  3.000000  Sometimes    no   \n3                            yes  yes  2.000000  2.977909  Sometimes    no   \n4                            yes  yes  3.000000  3.000000  Sometimes    no   \n\n       CH2O SCC       FAF       TUE       CALC                 MTRANS  \n0  2.825629  no  0.855400  0.000000  Sometimes  Public_Transportation  \n1  3.000000  no  1.000000  0.000000  Sometimes  Public_Transportation  \n2  2.621877  no  0.000000  0.250502  Sometimes  Public_Transportation  \n3  2.786417  no  0.094851  0.000000  Sometimes  Public_Transportation  \n4  2.653531  no  0.000000  0.741069  Sometimes  Public_Transportation  ",
      "text/html": "<div>\n<style scoped>\n    .dataframe tbody tr th:only-of-type {\n        vertical-align: middle;\n    }\n\n    .dataframe tbody tr th {\n        vertical-align: top;\n    }\n\n    .dataframe thead th {\n        text-align: right;\n    }\n</style>\n<table border=\"1\" class=\"dataframe\">\n  <thead>\n    <tr style=\"text-align: right;\">\n      <th></th>\n      <th>id</th>\n      <th>Gender</th>\n      <th>Age</th>\n      <th>Height</th>\n      <th>Weight</th>\n      <th>family_history_with_overweight</th>\n      <th>FAVC</th>\n      <th>FCVC</th>\n      <th>NCP</th>\n      <th>CAEC</th>\n      <th>SMOKE</th>\n      <th>CH2O</th>\n      <th>SCC</th>\n      <th>FAF</th>\n      <th>TUE</th>\n      <th>CALC</th>\n      <th>MTRANS</th>\n    </tr>\n  </thead>\n  <tbody>\n    <tr>\n      <th>0</th>\n      <td>20758</td>\n      <td>Male</td>\n      <td>26.899886</td>\n      <td>1.848294</td>\n      <td>120.644178</td>\n      <td>yes</td>\n      <td>yes</td>\n      <td>2.938616</td>\n      <td>3.000000</td>\n      <td>Sometimes</td>\n      <td>no</td>\n      <td>2.825629</td>\n      <td>no</td>\n      <td>0.855400</td>\n      <td>0.000000</td>\n      <td>Sometimes</td>\n      <td>Public_Transportation</td>\n    </tr>\n    <tr>\n      <th>1</th>\n      <td>20759</td>\n      <td>Female</td>\n      <td>21.000000</td>\n      <td>1.600000</td>\n      <td>66.000000</td>\n      <td>yes</td>\n      <td>yes</td>\n      <td>2.000000</td>\n      <td>1.000000</td>\n      <td>Sometimes</td>\n      <td>no</td>\n      <td>3.000000</td>\n      <td>no</td>\n      <td>1.000000</td>\n      <td>0.000000</td>\n      <td>Sometimes</td>\n      <td>Public_Transportation</td>\n    </tr>\n    <tr>\n      <th>2</th>\n      <td>20760</td>\n      <td>Female</td>\n      <td>26.000000</td>\n      <td>1.643355</td>\n      <td>111.600553</td>\n      <td>yes</td>\n      <td>yes</td>\n      <td>3.000000</td>\n      <td>3.000000</td>\n      <td>Sometimes</td>\n      <td>no</td>\n      <td>2.621877</td>\n      <td>no</td>\n      <td>0.000000</td>\n      <td>0.250502</td>\n      <td>Sometimes</td>\n      <td>Public_Transportation</td>\n    </tr>\n    <tr>\n      <th>3</th>\n      <td>20761</td>\n      <td>Male</td>\n      <td>20.979254</td>\n      <td>1.553127</td>\n      <td>103.669116</td>\n      <td>yes</td>\n      <td>yes</td>\n      <td>2.000000</td>\n      <td>2.977909</td>\n      <td>Sometimes</td>\n      <td>no</td>\n      <td>2.786417</td>\n      <td>no</td>\n      <td>0.094851</td>\n      <td>0.000000</td>\n      <td>Sometimes</td>\n      <td>Public_Transportation</td>\n    </tr>\n    <tr>\n      <th>4</th>\n      <td>20762</td>\n      <td>Female</td>\n      <td>26.000000</td>\n      <td>1.627396</td>\n      <td>104.835346</td>\n      <td>yes</td>\n      <td>yes</td>\n      <td>3.000000</td>\n      <td>3.000000</td>\n      <td>Sometimes</td>\n      <td>no</td>\n      <td>2.653531</td>\n      <td>no</td>\n      <td>0.000000</td>\n      <td>0.741069</td>\n      <td>Sometimes</td>\n      <td>Public_Transportation</td>\n    </tr>\n  </tbody>\n</table>\n</div>"
     },
     "execution_count": 7,
     "metadata": {},
     "output_type": "execute_result"
    }
   ],
   "source": [
    "test_df.head()"
   ],
   "metadata": {
    "collapsed": false
   }
  },
  {
   "cell_type": "markdown",
   "source": [
    "# First look of data"
   ],
   "metadata": {
    "collapsed": false
   }
  },
  {
   "cell_type": "markdown",
   "source": [
    "Found the original paper of this data: [Estimation of obesity levels based on dietary habits and condition physical using computational intelligence](https://www.sciencedirect.com/science/article/pii/S2352914822000521)\n",
    "\n",
    "- Height: in meter\n",
    "- Weight: in kg\n",
    "- FAVC: Consume high-calorie foods frequently, boolean value\n",
    "- FCVC: Number of meals where you usually eat vegetables, should be integer\n",
    "- NCP Number of main meals a day, should be integer\n",
    "- CAEC Eat food between meals, string description\n",
    "- SMOKE boolean\n",
    "- CH2O Liters of water you drink a day, float\n",
    "- SCC: Whether monitor the calories you consume daily, boolean\n",
    "- FAF: Frequency of days per week that you often have physical activity, float\n",
    "- TUE Time of use of technological devices on a daily basis,\n",
    "- CALC Frequency of alcohol intake. 3 unique string\n",
    "- MTRANS Means of transportation that you use regularly. 5 unique string\n",
    "- NObeyesdad Obesity state"
   ],
   "metadata": {
    "collapsed": false
   }
  },
  {
   "cell_type": "code",
   "execution_count": 11,
   "outputs": [
    {
     "data": {
      "text/plain": "                id           Age        Height        Weight          FCVC  \\\ncount  20758.00000  20758.000000  20758.000000  20758.000000  20758.000000   \nmean   10378.50000     23.841804      1.700245     87.887768      2.445908   \nstd     5992.46278      5.688072      0.087312     26.379443      0.533218   \nmin        0.00000     14.000000      1.450000     39.000000      1.000000   \n25%     5189.25000     20.000000      1.631856     66.000000      2.000000   \n50%    10378.50000     22.815416      1.700000     84.064875      2.393837   \n75%    15567.75000     26.000000      1.762887    111.600553      3.000000   \nmax    20757.00000     61.000000      1.975663    165.057269      3.000000   \n\n                NCP          CH2O           FAF           TUE  \ncount  20758.000000  20758.000000  20758.000000  20758.000000  \nmean       2.761332      2.029418      0.981747      0.616756  \nstd        0.705375      0.608467      0.838302      0.602113  \nmin        1.000000      1.000000      0.000000      0.000000  \n25%        3.000000      1.792022      0.008013      0.000000  \n50%        3.000000      2.000000      1.000000      0.573887  \n75%        3.000000      2.549617      1.587406      1.000000  \nmax        4.000000      3.000000      3.000000      2.000000  ",
      "text/html": "<div>\n<style scoped>\n    .dataframe tbody tr th:only-of-type {\n        vertical-align: middle;\n    }\n\n    .dataframe tbody tr th {\n        vertical-align: top;\n    }\n\n    .dataframe thead th {\n        text-align: right;\n    }\n</style>\n<table border=\"1\" class=\"dataframe\">\n  <thead>\n    <tr style=\"text-align: right;\">\n      <th></th>\n      <th>id</th>\n      <th>Age</th>\n      <th>Height</th>\n      <th>Weight</th>\n      <th>FCVC</th>\n      <th>NCP</th>\n      <th>CH2O</th>\n      <th>FAF</th>\n      <th>TUE</th>\n    </tr>\n  </thead>\n  <tbody>\n    <tr>\n      <th>count</th>\n      <td>20758.00000</td>\n      <td>20758.000000</td>\n      <td>20758.000000</td>\n      <td>20758.000000</td>\n      <td>20758.000000</td>\n      <td>20758.000000</td>\n      <td>20758.000000</td>\n      <td>20758.000000</td>\n      <td>20758.000000</td>\n    </tr>\n    <tr>\n      <th>mean</th>\n      <td>10378.50000</td>\n      <td>23.841804</td>\n      <td>1.700245</td>\n      <td>87.887768</td>\n      <td>2.445908</td>\n      <td>2.761332</td>\n      <td>2.029418</td>\n      <td>0.981747</td>\n      <td>0.616756</td>\n    </tr>\n    <tr>\n      <th>std</th>\n      <td>5992.46278</td>\n      <td>5.688072</td>\n      <td>0.087312</td>\n      <td>26.379443</td>\n      <td>0.533218</td>\n      <td>0.705375</td>\n      <td>0.608467</td>\n      <td>0.838302</td>\n      <td>0.602113</td>\n    </tr>\n    <tr>\n      <th>min</th>\n      <td>0.00000</td>\n      <td>14.000000</td>\n      <td>1.450000</td>\n      <td>39.000000</td>\n      <td>1.000000</td>\n      <td>1.000000</td>\n      <td>1.000000</td>\n      <td>0.000000</td>\n      <td>0.000000</td>\n    </tr>\n    <tr>\n      <th>25%</th>\n      <td>5189.25000</td>\n      <td>20.000000</td>\n      <td>1.631856</td>\n      <td>66.000000</td>\n      <td>2.000000</td>\n      <td>3.000000</td>\n      <td>1.792022</td>\n      <td>0.008013</td>\n      <td>0.000000</td>\n    </tr>\n    <tr>\n      <th>50%</th>\n      <td>10378.50000</td>\n      <td>22.815416</td>\n      <td>1.700000</td>\n      <td>84.064875</td>\n      <td>2.393837</td>\n      <td>3.000000</td>\n      <td>2.000000</td>\n      <td>1.000000</td>\n      <td>0.573887</td>\n    </tr>\n    <tr>\n      <th>75%</th>\n      <td>15567.75000</td>\n      <td>26.000000</td>\n      <td>1.762887</td>\n      <td>111.600553</td>\n      <td>3.000000</td>\n      <td>3.000000</td>\n      <td>2.549617</td>\n      <td>1.587406</td>\n      <td>1.000000</td>\n    </tr>\n    <tr>\n      <th>max</th>\n      <td>20757.00000</td>\n      <td>61.000000</td>\n      <td>1.975663</td>\n      <td>165.057269</td>\n      <td>3.000000</td>\n      <td>4.000000</td>\n      <td>3.000000</td>\n      <td>3.000000</td>\n      <td>2.000000</td>\n    </tr>\n  </tbody>\n</table>\n</div>"
     },
     "execution_count": 11,
     "metadata": {},
     "output_type": "execute_result"
    }
   ],
   "source": [
    "train_df.describe()"
   ],
   "metadata": {
    "collapsed": false
   }
  },
  {
   "cell_type": "code",
   "execution_count": 8,
   "outputs": [
    {
     "name": "stdout",
     "output_type": "stream",
     "text": [
      "<class 'pandas.core.frame.DataFrame'>\n",
      "RangeIndex: 20758 entries, 0 to 20757\n",
      "Data columns (total 18 columns):\n",
      " #   Column                          Non-Null Count  Dtype  \n",
      "---  ------                          --------------  -----  \n",
      " 0   id                              20758 non-null  int64  \n",
      " 1   Gender                          20758 non-null  object \n",
      " 2   Age                             20758 non-null  float64\n",
      " 3   Height                          20758 non-null  float64\n",
      " 4   Weight                          20758 non-null  float64\n",
      " 5   family_history_with_overweight  20758 non-null  object \n",
      " 6   FAVC                            20758 non-null  object \n",
      " 7   FCVC                            20758 non-null  float64\n",
      " 8   NCP                             20758 non-null  float64\n",
      " 9   CAEC                            20758 non-null  object \n",
      " 10  SMOKE                           20758 non-null  object \n",
      " 11  CH2O                            20758 non-null  float64\n",
      " 12  SCC                             20758 non-null  object \n",
      " 13  FAF                             20758 non-null  float64\n",
      " 14  TUE                             20758 non-null  float64\n",
      " 15  CALC                            20758 non-null  object \n",
      " 16  MTRANS                          20758 non-null  object \n",
      " 17  NObeyesdad                      20758 non-null  object \n",
      "dtypes: float64(8), int64(1), object(9)\n",
      "memory usage: 2.9+ MB\n"
     ]
    }
   ],
   "source": [
    "train_df.info()"
   ],
   "metadata": {
    "collapsed": false
   }
  },
  {
   "cell_type": "markdown",
   "source": [
    "We can see that all the data are filled. There is no need for us to deal with the missing data.\n",
    "\n",
    "\n",
    "For the string data, we need to check on the unique values."
   ],
   "metadata": {
    "collapsed": false
   }
  },
  {
   "cell_type": "code",
   "execution_count": 26,
   "outputs": [
    {
     "data": {
      "text/plain": "Gender\nFemale    10422\nMale      10336\nName: count, dtype: int64"
     },
     "execution_count": 26,
     "metadata": {},
     "output_type": "execute_result"
    }
   ],
   "source": [
    "train_df[\"Gender\"].value_counts()"
   ],
   "metadata": {
    "collapsed": false
   }
  },
  {
   "cell_type": "code",
   "execution_count": 25,
   "outputs": [
    {
     "data": {
      "text/plain": "family_history_with_overweight\nyes    17014\nno      3744\nName: count, dtype: int64"
     },
     "execution_count": 25,
     "metadata": {},
     "output_type": "execute_result"
    }
   ],
   "source": [
    "train_df[\"family_history_with_overweight\"].value_counts()"
   ],
   "metadata": {
    "collapsed": false
   }
  },
  {
   "cell_type": "code",
   "execution_count": 24,
   "outputs": [
    {
     "data": {
      "text/plain": "SMOKE\nno     20513\nyes      245\nName: count, dtype: int64"
     },
     "execution_count": 24,
     "metadata": {},
     "output_type": "execute_result"
    }
   ],
   "source": [
    "train_df[\"SMOKE\"].value_counts()"
   ],
   "metadata": {
    "collapsed": false
   }
  },
  {
   "cell_type": "code",
   "execution_count": 23,
   "outputs": [
    {
     "data": {
      "text/plain": "CALC\nSometimes     15066\nno             5163\nFrequently      529\nName: count, dtype: int64"
     },
     "execution_count": 23,
     "metadata": {},
     "output_type": "execute_result"
    }
   ],
   "source": [
    "train_df[\"CALC\"].value_counts()"
   ],
   "metadata": {
    "collapsed": false
   }
  },
  {
   "cell_type": "code",
   "execution_count": 22,
   "outputs": [
    {
     "data": {
      "text/plain": "MTRANS\nPublic_Transportation    16687\nAutomobile                3534\nWalking                    467\nMotorbike                   38\nBike                        32\nName: count, dtype: int64"
     },
     "execution_count": 22,
     "metadata": {},
     "output_type": "execute_result"
    }
   ],
   "source": [
    "train_df[\"MTRANS\"].value_counts()"
   ],
   "metadata": {
    "collapsed": false
   }
  },
  {
   "cell_type": "code",
   "execution_count": 20,
   "outputs": [
    {
     "data": {
      "text/plain": "NObeyesdad\nObesity_Type_III       4046\nObesity_Type_II        3248\nNormal_Weight          3082\nObesity_Type_I         2910\nInsufficient_Weight    2523\nOverweight_Level_II    2522\nOverweight_Level_I     2427\nName: count, dtype: int64"
     },
     "execution_count": 20,
     "metadata": {},
     "output_type": "execute_result"
    }
   ],
   "source": [
    "train_df[\"NObeyesdad\"].value_counts()"
   ],
   "metadata": {
    "collapsed": false
   }
  },
  {
   "cell_type": "code",
   "execution_count": 28,
   "outputs": [
    {
     "data": {
      "text/plain": "FAVC\nyes    18982\nno      1776\nName: count, dtype: int64"
     },
     "execution_count": 28,
     "metadata": {},
     "output_type": "execute_result"
    }
   ],
   "source": [
    "train_df[\"FAVC\"].value_counts()"
   ],
   "metadata": {
    "collapsed": false
   }
  },
  {
   "cell_type": "code",
   "execution_count": 29,
   "outputs": [
    {
     "data": {
      "text/plain": "CAEC\nSometimes     17529\nFrequently     2472\nAlways          478\nno              279\nName: count, dtype: int64"
     },
     "execution_count": 29,
     "metadata": {},
     "output_type": "execute_result"
    }
   ],
   "source": [
    "train_df[\"CAEC\"].value_counts()"
   ],
   "metadata": {
    "collapsed": false
   }
  },
  {
   "cell_type": "code",
   "execution_count": 30,
   "outputs": [
    {
     "data": {
      "text/plain": "SCC\nno     20071\nyes      687\nName: count, dtype: int64"
     },
     "execution_count": 30,
     "metadata": {},
     "output_type": "execute_result"
    }
   ],
   "source": [
    "train_df[\"SCC\"].value_counts()"
   ],
   "metadata": {
    "collapsed": false
   }
  },
  {
   "cell_type": "markdown",
   "source": [
    "# Data Correlation\n",
    "\n",
    "In order to find the correlation between data, we need to first map all the categorical data into integers."
   ],
   "metadata": {
    "collapsed": false
   }
  },
  {
   "cell_type": "code",
   "execution_count": 27,
   "outputs": [],
   "source": [
    "# drop the id\n",
    "train_df = train_df.drop([\"id\"], axis=1)"
   ],
   "metadata": {
    "collapsed": false
   }
  },
  {
   "cell_type": "code",
   "execution_count": 33,
   "outputs": [],
   "source": [
    "# gender mapping\n",
    "gender_mapping = {\"Female\":0, \"Male\":1}\n",
    "# family overweight history mapping\n",
    "FHWO_mapping = {\"no\":0, \"yes\":1}\n",
    "# FAVC mapping\n",
    "FAVC_mapping = {\"no\":0, \"yes\":1}\n",
    "# CAEC mapping\n",
    "CAEC_mapping = {\"no\":0, \"Sometimes\":1, \"Frequently\":2, \"Always\":3}\n",
    "# smoke mapping\n",
    "smoke_mapping = {\"no\":0, \"yes\":1}\n",
    "# SCC mapping\n",
    "SCC_mapping = {\"no\":0, \"yes\":1}\n",
    "# CALC mapping\n",
    "CALC_mapping = {\"no\":0, \"Sometimes\":1, \"Frequently\":2}\n",
    "# MTrans mapping\n",
    "MTrans_mapping = {\"Public_Transportation\":0, \"Automobile\":1, \"Walking\":2, \"Motorbike\":3, \"Bike\":4}\n",
    "# NObeyesdad mapping\n",
    "NObey_mapping = {\"Normal_Weight\":0, \"Insufficient_Weight\":1, \"Overweight_Level_I\":2, \"Overweight_Level_II\":3, \"Obesity_Type_I\":4, \"Obesity_Type_II\":5, \"Obesity_Type_III\":6}"
   ],
   "metadata": {
    "collapsed": false
   }
  },
  {
   "cell_type": "code",
   "execution_count": 34,
   "outputs": [
    {
     "data": {
      "text/plain": "   Gender        Age    Height      Weight family_history_with_overweight  \\\n0    Male  24.443011  1.699998   81.669950                            yes   \n1  Female  18.000000  1.560000   57.000000                            yes   \n2  Female  18.000000  1.711460   50.165754                            yes   \n3  Female  20.952737  1.710730  131.274851                            yes   \n4    Male  31.641081  1.914186   93.798055                            yes   \n\n  FAVC      FCVC       NCP        CAEC SMOKE      CH2O SCC       FAF  \\\n0  yes  2.000000  2.983297   Sometimes    no  2.763573  no  0.000000   \n1  yes  2.000000  3.000000  Frequently    no  2.000000  no  1.000000   \n2  yes  1.880534  1.411685   Sometimes    no  1.910378  no  0.866045   \n3  yes  3.000000  3.000000   Sometimes    no  1.674061  no  1.467863   \n4  yes  2.679664  1.971472   Sometimes    no  1.979848  no  1.967973   \n\n        TUE       CALC                 MTRANS           NObeyesdad  \n0  0.976473  Sometimes  Public_Transportation  Overweight_Level_II  \n1  1.000000         no             Automobile        Normal_Weight  \n2  1.673584         no  Public_Transportation  Insufficient_Weight  \n3  0.780199  Sometimes  Public_Transportation     Obesity_Type_III  \n4  0.931721  Sometimes  Public_Transportation  Overweight_Level_II  ",
      "text/html": "<div>\n<style scoped>\n    .dataframe tbody tr th:only-of-type {\n        vertical-align: middle;\n    }\n\n    .dataframe tbody tr th {\n        vertical-align: top;\n    }\n\n    .dataframe thead th {\n        text-align: right;\n    }\n</style>\n<table border=\"1\" class=\"dataframe\">\n  <thead>\n    <tr style=\"text-align: right;\">\n      <th></th>\n      <th>Gender</th>\n      <th>Age</th>\n      <th>Height</th>\n      <th>Weight</th>\n      <th>family_history_with_overweight</th>\n      <th>FAVC</th>\n      <th>FCVC</th>\n      <th>NCP</th>\n      <th>CAEC</th>\n      <th>SMOKE</th>\n      <th>CH2O</th>\n      <th>SCC</th>\n      <th>FAF</th>\n      <th>TUE</th>\n      <th>CALC</th>\n      <th>MTRANS</th>\n      <th>NObeyesdad</th>\n    </tr>\n  </thead>\n  <tbody>\n    <tr>\n      <th>0</th>\n      <td>Male</td>\n      <td>24.443011</td>\n      <td>1.699998</td>\n      <td>81.669950</td>\n      <td>yes</td>\n      <td>yes</td>\n      <td>2.000000</td>\n      <td>2.983297</td>\n      <td>Sometimes</td>\n      <td>no</td>\n      <td>2.763573</td>\n      <td>no</td>\n      <td>0.000000</td>\n      <td>0.976473</td>\n      <td>Sometimes</td>\n      <td>Public_Transportation</td>\n      <td>Overweight_Level_II</td>\n    </tr>\n    <tr>\n      <th>1</th>\n      <td>Female</td>\n      <td>18.000000</td>\n      <td>1.560000</td>\n      <td>57.000000</td>\n      <td>yes</td>\n      <td>yes</td>\n      <td>2.000000</td>\n      <td>3.000000</td>\n      <td>Frequently</td>\n      <td>no</td>\n      <td>2.000000</td>\n      <td>no</td>\n      <td>1.000000</td>\n      <td>1.000000</td>\n      <td>no</td>\n      <td>Automobile</td>\n      <td>Normal_Weight</td>\n    </tr>\n    <tr>\n      <th>2</th>\n      <td>Female</td>\n      <td>18.000000</td>\n      <td>1.711460</td>\n      <td>50.165754</td>\n      <td>yes</td>\n      <td>yes</td>\n      <td>1.880534</td>\n      <td>1.411685</td>\n      <td>Sometimes</td>\n      <td>no</td>\n      <td>1.910378</td>\n      <td>no</td>\n      <td>0.866045</td>\n      <td>1.673584</td>\n      <td>no</td>\n      <td>Public_Transportation</td>\n      <td>Insufficient_Weight</td>\n    </tr>\n    <tr>\n      <th>3</th>\n      <td>Female</td>\n      <td>20.952737</td>\n      <td>1.710730</td>\n      <td>131.274851</td>\n      <td>yes</td>\n      <td>yes</td>\n      <td>3.000000</td>\n      <td>3.000000</td>\n      <td>Sometimes</td>\n      <td>no</td>\n      <td>1.674061</td>\n      <td>no</td>\n      <td>1.467863</td>\n      <td>0.780199</td>\n      <td>Sometimes</td>\n      <td>Public_Transportation</td>\n      <td>Obesity_Type_III</td>\n    </tr>\n    <tr>\n      <th>4</th>\n      <td>Male</td>\n      <td>31.641081</td>\n      <td>1.914186</td>\n      <td>93.798055</td>\n      <td>yes</td>\n      <td>yes</td>\n      <td>2.679664</td>\n      <td>1.971472</td>\n      <td>Sometimes</td>\n      <td>no</td>\n      <td>1.979848</td>\n      <td>no</td>\n      <td>1.967973</td>\n      <td>0.931721</td>\n      <td>Sometimes</td>\n      <td>Public_Transportation</td>\n      <td>Overweight_Level_II</td>\n    </tr>\n  </tbody>\n</table>\n</div>"
     },
     "execution_count": 34,
     "metadata": {},
     "output_type": "execute_result"
    }
   ],
   "source": [
    "train_df.head()"
   ],
   "metadata": {
    "collapsed": false
   }
  },
  {
   "cell_type": "code",
   "execution_count": 35,
   "outputs": [],
   "source": [
    "data = [train_df, test_df]\n",
    "for dataset in data:\n",
    "    dataset[\"Gender\"] = dataset[\"Gender\"].map(gender_mapping)\n",
    "    dataset[\"family_history_with_overweight\"] = dataset[\"family_history_with_overweight\"].map(FHWO_mapping)\n",
    "    dataset[\"FAVC\"] = dataset[\"FAVC\"].map(FAVC_mapping)\n",
    "    dataset[\"CAEC\"] = dataset[\"CAEC\"].map(CAEC_mapping)\n",
    "    dataset[\"SMOKE\"] = dataset[\"SMOKE\"].map(smoke_mapping)\n",
    "    dataset[\"SCC\"] = dataset[\"SCC\"].map(SCC_mapping)\n",
    "    dataset[\"CALC\"] = dataset[\"CALC\"].map(CALC_mapping)\n",
    "    dataset[\"MTRANS\"] = dataset[\"MTRANS\"].map(MTrans_mapping)\n",
    "train_df[\"NObeyesdad\"] = train_df[\"NObeyesdad\"].map(NObey_mapping)"
   ],
   "metadata": {
    "collapsed": false
   }
  },
  {
   "cell_type": "code",
   "execution_count": 36,
   "outputs": [
    {
     "data": {
      "text/plain": "   Gender        Age    Height      Weight  family_history_with_overweight  \\\n0       1  24.443011  1.699998   81.669950                               1   \n1       0  18.000000  1.560000   57.000000                               1   \n2       0  18.000000  1.711460   50.165754                               1   \n3       0  20.952737  1.710730  131.274851                               1   \n4       1  31.641081  1.914186   93.798055                               1   \n\n   FAVC      FCVC       NCP  CAEC  SMOKE      CH2O  SCC       FAF       TUE  \\\n0     1  2.000000  2.983297     1      0  2.763573    0  0.000000  0.976473   \n1     1  2.000000  3.000000     2      0  2.000000    0  1.000000  1.000000   \n2     1  1.880534  1.411685     1      0  1.910378    0  0.866045  1.673584   \n3     1  3.000000  3.000000     1      0  1.674061    0  1.467863  0.780199   \n4     1  2.679664  1.971472     1      0  1.979848    0  1.967973  0.931721   \n\n   CALC  MTRANS  NObeyesdad  \n0     1       0           3  \n1     0       1           0  \n2     0       0           1  \n3     1       0           6  \n4     1       0           3  ",
      "text/html": "<div>\n<style scoped>\n    .dataframe tbody tr th:only-of-type {\n        vertical-align: middle;\n    }\n\n    .dataframe tbody tr th {\n        vertical-align: top;\n    }\n\n    .dataframe thead th {\n        text-align: right;\n    }\n</style>\n<table border=\"1\" class=\"dataframe\">\n  <thead>\n    <tr style=\"text-align: right;\">\n      <th></th>\n      <th>Gender</th>\n      <th>Age</th>\n      <th>Height</th>\n      <th>Weight</th>\n      <th>family_history_with_overweight</th>\n      <th>FAVC</th>\n      <th>FCVC</th>\n      <th>NCP</th>\n      <th>CAEC</th>\n      <th>SMOKE</th>\n      <th>CH2O</th>\n      <th>SCC</th>\n      <th>FAF</th>\n      <th>TUE</th>\n      <th>CALC</th>\n      <th>MTRANS</th>\n      <th>NObeyesdad</th>\n    </tr>\n  </thead>\n  <tbody>\n    <tr>\n      <th>0</th>\n      <td>1</td>\n      <td>24.443011</td>\n      <td>1.699998</td>\n      <td>81.669950</td>\n      <td>1</td>\n      <td>1</td>\n      <td>2.000000</td>\n      <td>2.983297</td>\n      <td>1</td>\n      <td>0</td>\n      <td>2.763573</td>\n      <td>0</td>\n      <td>0.000000</td>\n      <td>0.976473</td>\n      <td>1</td>\n      <td>0</td>\n      <td>3</td>\n    </tr>\n    <tr>\n      <th>1</th>\n      <td>0</td>\n      <td>18.000000</td>\n      <td>1.560000</td>\n      <td>57.000000</td>\n      <td>1</td>\n      <td>1</td>\n      <td>2.000000</td>\n      <td>3.000000</td>\n      <td>2</td>\n      <td>0</td>\n      <td>2.000000</td>\n      <td>0</td>\n      <td>1.000000</td>\n      <td>1.000000</td>\n      <td>0</td>\n      <td>1</td>\n      <td>0</td>\n    </tr>\n    <tr>\n      <th>2</th>\n      <td>0</td>\n      <td>18.000000</td>\n      <td>1.711460</td>\n      <td>50.165754</td>\n      <td>1</td>\n      <td>1</td>\n      <td>1.880534</td>\n      <td>1.411685</td>\n      <td>1</td>\n      <td>0</td>\n      <td>1.910378</td>\n      <td>0</td>\n      <td>0.866045</td>\n      <td>1.673584</td>\n      <td>0</td>\n      <td>0</td>\n      <td>1</td>\n    </tr>\n    <tr>\n      <th>3</th>\n      <td>0</td>\n      <td>20.952737</td>\n      <td>1.710730</td>\n      <td>131.274851</td>\n      <td>1</td>\n      <td>1</td>\n      <td>3.000000</td>\n      <td>3.000000</td>\n      <td>1</td>\n      <td>0</td>\n      <td>1.674061</td>\n      <td>0</td>\n      <td>1.467863</td>\n      <td>0.780199</td>\n      <td>1</td>\n      <td>0</td>\n      <td>6</td>\n    </tr>\n    <tr>\n      <th>4</th>\n      <td>1</td>\n      <td>31.641081</td>\n      <td>1.914186</td>\n      <td>93.798055</td>\n      <td>1</td>\n      <td>1</td>\n      <td>2.679664</td>\n      <td>1.971472</td>\n      <td>1</td>\n      <td>0</td>\n      <td>1.979848</td>\n      <td>0</td>\n      <td>1.967973</td>\n      <td>0.931721</td>\n      <td>1</td>\n      <td>0</td>\n      <td>3</td>\n    </tr>\n  </tbody>\n</table>\n</div>"
     },
     "execution_count": 36,
     "metadata": {},
     "output_type": "execute_result"
    }
   ],
   "source": [
    "train_df.head()"
   ],
   "metadata": {
    "collapsed": false
   }
  },
  {
   "cell_type": "code",
   "execution_count": 37,
   "outputs": [
    {
     "data": {
      "text/plain": "<Axes: ylabel='Frequency'>"
     },
     "execution_count": 37,
     "metadata": {},
     "output_type": "execute_result"
    },
    {
     "data": {
      "text/plain": "<Figure size 640x480 with 1 Axes>",
      "image/png": "[encoded data removed]"
     },
     "metadata": {},
     "output_type": "display_data"
    }
   ],
   "source": [
    "train_df[\"FCVC\"].plot(kind='hist', bins=10, alpha=0.7)"
   ],
   "metadata": {
    "collapsed": false
   }
  },
  {
   "cell_type": "markdown",
   "source": [
    "After looking at the FCVC data, we are sure that we can round it to the nearest integer."
   ],
   "metadata": {
    "collapsed": false
   }
  },
  {
   "cell_type": "code",
   "execution_count": 38,
   "outputs": [],
   "source": [
    "for dataset in data:\n",
    "    dataset[\"FCVC\"] = dataset[\"FCVC\"].round().astype(int)"
   ],
   "metadata": {
    "collapsed": false
   }
  },
  {
   "cell_type": "code",
   "execution_count": 40,
   "outputs": [
    {
     "data": {
      "text/plain": "   Gender        Age    Height      Weight  family_history_with_overweight  \\\n0       1  24.443011  1.699998   81.669950                               1   \n1       0  18.000000  1.560000   57.000000                               1   \n2       0  18.000000  1.711460   50.165754                               1   \n3       0  20.952737  1.710730  131.274851                               1   \n4       1  31.641081  1.914186   93.798055                               1   \n\n   FAVC  FCVC       NCP  CAEC  SMOKE      CH2O  SCC       FAF       TUE  CALC  \\\n0     1     2  2.983297     1      0  2.763573    0  0.000000  0.976473     1   \n1     1     2  3.000000     2      0  2.000000    0  1.000000  1.000000     0   \n2     1     2  1.411685     1      0  1.910378    0  0.866045  1.673584     0   \n3     1     3  3.000000     1      0  1.674061    0  1.467863  0.780199     1   \n4     1     3  1.971472     1      0  1.979848    0  1.967973  0.931721     1   \n\n   MTRANS  NObeyesdad  \n0       0           3  \n1       1           0  \n2       0           1  \n3       0           6  \n4       0           3  ",
      "text/html": "<div>\n<style scoped>\n    .dataframe tbody tr th:only-of-type {\n        vertical-align: middle;\n    }\n\n    .dataframe tbody tr th {\n        vertical-align: top;\n    }\n\n    .dataframe thead th {\n        text-align: right;\n    }\n</style>\n<table border=\"1\" class=\"dataframe\">\n  <thead>\n    <tr style=\"text-align: right;\">\n      <th></th>\n      <th>Gender</th>\n      <th>Age</th>\n      <th>Height</th>\n      <th>Weight</th>\n      <th>family_history_with_overweight</th>\n      <th>FAVC</th>\n      <th>FCVC</th>\n      <th>NCP</th>\n      <th>CAEC</th>\n      <th>SMOKE</th>\n      <th>CH2O</th>\n      <th>SCC</th>\n      <th>FAF</th>\n      <th>TUE</th>\n      <th>CALC</th>\n      <th>MTRANS</th>\n      <th>NObeyesdad</th>\n    </tr>\n  </thead>\n  <tbody>\n    <tr>\n      <th>0</th>\n      <td>1</td>\n      <td>24.443011</td>\n      <td>1.699998</td>\n      <td>81.669950</td>\n      <td>1</td>\n      <td>1</td>\n      <td>2</td>\n      <td>2.983297</td>\n      <td>1</td>\n      <td>0</td>\n      <td>2.763573</td>\n      <td>0</td>\n      <td>0.000000</td>\n      <td>0.976473</td>\n      <td>1</td>\n      <td>0</td>\n      <td>3</td>\n    </tr>\n    <tr>\n      <th>1</th>\n      <td>0</td>\n      <td>18.000000</td>\n      <td>1.560000</td>\n      <td>57.000000</td>\n      <td>1</td>\n      <td>1</td>\n      <td>2</td>\n      <td>3.000000</td>\n      <td>2</td>\n      <td>0</td>\n      <td>2.000000</td>\n      <td>0</td>\n      <td>1.000000</td>\n      <td>1.000000</td>\n      <td>0</td>\n      <td>1</td>\n      <td>0</td>\n    </tr>\n    <tr>\n      <th>2</th>\n      <td>0</td>\n      <td>18.000000</td>\n      <td>1.711460</td>\n      <td>50.165754</td>\n      <td>1</td>\n      <td>1</td>\n      <td>2</td>\n      <td>1.411685</td>\n      <td>1</td>\n      <td>0</td>\n      <td>1.910378</td>\n      <td>0</td>\n      <td>0.866045</td>\n      <td>1.673584</td>\n      <td>0</td>\n      <td>0</td>\n      <td>1</td>\n    </tr>\n    <tr>\n      <th>3</th>\n      <td>0</td>\n      <td>20.952737</td>\n      <td>1.710730</td>\n      <td>131.274851</td>\n      <td>1</td>\n      <td>1</td>\n      <td>3</td>\n      <td>3.000000</td>\n      <td>1</td>\n      <td>0</td>\n      <td>1.674061</td>\n      <td>0</td>\n      <td>1.467863</td>\n      <td>0.780199</td>\n      <td>1</td>\n      <td>0</td>\n      <td>6</td>\n    </tr>\n    <tr>\n      <th>4</th>\n      <td>1</td>\n      <td>31.641081</td>\n      <td>1.914186</td>\n      <td>93.798055</td>\n      <td>1</td>\n      <td>1</td>\n      <td>3</td>\n      <td>1.971472</td>\n      <td>1</td>\n      <td>0</td>\n      <td>1.979848</td>\n      <td>0</td>\n      <td>1.967973</td>\n      <td>0.931721</td>\n      <td>1</td>\n      <td>0</td>\n      <td>3</td>\n    </tr>\n  </tbody>\n</table>\n</div>"
     },
     "execution_count": 40,
     "metadata": {},
     "output_type": "execute_result"
    }
   ],
   "source": [
    "train_df.head()"
   ],
   "metadata": {
    "collapsed": false
   }
  },
  {
   "cell_type": "markdown",
   "source": [
    "do the same for NCP"
   ],
   "metadata": {
    "collapsed": false
   }
  },
  {
   "cell_type": "code",
   "execution_count": 41,
   "outputs": [
    {
     "data": {
      "text/plain": "<Axes: ylabel='Frequency'>"
     },
     "execution_count": 41,
     "metadata": {},
     "output_type": "execute_result"
    },
    {
     "data": {
      "text/plain": "<Figure size 640x480 with 1 Axes>",
      "image/png": "[encoded data removed]"
     },
     "metadata": {},
     "output_type": "display_data"
    }
   ],
   "source": [
    "train_df[\"NCP\"].plot(kind='hist', bins=10, alpha=0.7)"
   ],
   "metadata": {
    "collapsed": false
   }
  },
  {
   "cell_type": "code",
   "execution_count": 42,
   "outputs": [],
   "source": [
    "for dataset in data:\n",
    "    dataset[\"NCP\"] = dataset[\"NCP\"].round().astype(int)"
   ],
   "metadata": {
    "collapsed": false
   }
  },
  {
   "cell_type": "code",
   "execution_count": 43,
   "outputs": [
    {
     "data": {
      "text/plain": "   Gender        Age    Height      Weight  family_history_with_overweight  \\\n0       1  24.443011  1.699998   81.669950                               1   \n1       0  18.000000  1.560000   57.000000                               1   \n2       0  18.000000  1.711460   50.165754                               1   \n3       0  20.952737  1.710730  131.274851                               1   \n4       1  31.641081  1.914186   93.798055                               1   \n\n   FAVC  FCVC  NCP  CAEC  SMOKE      CH2O  SCC       FAF       TUE  CALC  \\\n0     1     2    3     1      0  2.763573    0  0.000000  0.976473     1   \n1     1     2    3     2      0  2.000000    0  1.000000  1.000000     0   \n2     1     2    1     1      0  1.910378    0  0.866045  1.673584     0   \n3     1     3    3     1      0  1.674061    0  1.467863  0.780199     1   \n4     1     3    2     1      0  1.979848    0  1.967973  0.931721     1   \n\n   MTRANS  NObeyesdad  \n0       0           3  \n1       1           0  \n2       0           1  \n3       0           6  \n4       0           3  ",
      "text/html": "<div>\n<style scoped>\n    .dataframe tbody tr th:only-of-type {\n        vertical-align: middle;\n    }\n\n    .dataframe tbody tr th {\n        vertical-align: top;\n    }\n\n    .dataframe thead th {\n        text-align: right;\n    }\n</style>\n<table border=\"1\" class=\"dataframe\">\n  <thead>\n    <tr style=\"text-align: right;\">\n      <th></th>\n      <th>Gender</th>\n      <th>Age</th>\n      <th>Height</th>\n      <th>Weight</th>\n      <th>family_history_with_overweight</th>\n      <th>FAVC</th>\n      <th>FCVC</th>\n      <th>NCP</th>\n      <th>CAEC</th>\n      <th>SMOKE</th>\n      <th>CH2O</th>\n      <th>SCC</th>\n      <th>FAF</th>\n      <th>TUE</th>\n      <th>CALC</th>\n      <th>MTRANS</th>\n      <th>NObeyesdad</th>\n    </tr>\n  </thead>\n  <tbody>\n    <tr>\n      <th>0</th>\n      <td>1</td>\n      <td>24.443011</td>\n      <td>1.699998</td>\n      <td>81.669950</td>\n      <td>1</td>\n      <td>1</td>\n      <td>2</td>\n      <td>3</td>\n      <td>1</td>\n      <td>0</td>\n      <td>2.763573</td>\n      <td>0</td>\n      <td>0.000000</td>\n      <td>0.976473</td>\n      <td>1</td>\n      <td>0</td>\n      <td>3</td>\n    </tr>\n    <tr>\n      <th>1</th>\n      <td>0</td>\n      <td>18.000000</td>\n      <td>1.560000</td>\n      <td>57.000000</td>\n      <td>1</td>\n      <td>1</td>\n      <td>2</td>\n      <td>3</td>\n      <td>2</td>\n      <td>0</td>\n      <td>2.000000</td>\n      <td>0</td>\n      <td>1.000000</td>\n      <td>1.000000</td>\n      <td>0</td>\n      <td>1</td>\n      <td>0</td>\n    </tr>\n    <tr>\n      <th>2</th>\n      <td>0</td>\n      <td>18.000000</td>\n      <td>1.711460</td>\n      <td>50.165754</td>\n      <td>1</td>\n      <td>1</td>\n      <td>2</td>\n      <td>1</td>\n      <td>1</td>\n      <td>0</td>\n      <td>1.910378</td>\n      <td>0</td>\n      <td>0.866045</td>\n      <td>1.673584</td>\n      <td>0</td>\n      <td>0</td>\n      <td>1</td>\n    </tr>\n    <tr>\n      <th>3</th>\n      <td>0</td>\n      <td>20.952737</td>\n      <td>1.710730</td>\n      <td>131.274851</td>\n      <td>1</td>\n      <td>1</td>\n      <td>3</td>\n      <td>3</td>\n      <td>1</td>\n      <td>0</td>\n      <td>1.674061</td>\n      <td>0</td>\n      <td>1.467863</td>\n      <td>0.780199</td>\n      <td>1</td>\n      <td>0</td>\n      <td>6</td>\n    </tr>\n    <tr>\n      <th>4</th>\n      <td>1</td>\n      <td>31.641081</td>\n      <td>1.914186</td>\n      <td>93.798055</td>\n      <td>1</td>\n      <td>1</td>\n      <td>3</td>\n      <td>2</td>\n      <td>1</td>\n      <td>0</td>\n      <td>1.979848</td>\n      <td>0</td>\n      <td>1.967973</td>\n      <td>0.931721</td>\n      <td>1</td>\n      <td>0</td>\n      <td>3</td>\n    </tr>\n  </tbody>\n</table>\n</div>"
     },
     "execution_count": 43,
     "metadata": {},
     "output_type": "execute_result"
    }
   ],
   "source": [
    "train_df.head()"
   ],
   "metadata": {
    "collapsed": false
   }
  },
  {
   "cell_type": "code",
   "execution_count": 44,
   "outputs": [
    {
     "data": {
      "text/plain": "      id  Gender        Age    Height      Weight  \\\n0  20758       1  26.899886  1.848294  120.644178   \n1  20759       0  21.000000  1.600000   66.000000   \n2  20760       0  26.000000  1.643355  111.600553   \n3  20761       1  20.979254  1.553127  103.669116   \n4  20762       0  26.000000  1.627396  104.835346   \n\n   family_history_with_overweight  FAVC  FCVC  NCP  CAEC  SMOKE      CH2O  \\\n0                               1     1     3    3     1      0  2.825629   \n1                               1     1     2    1     1      0  3.000000   \n2                               1     1     3    3     1      0  2.621877   \n3                               1     1     2    3     1      0  2.786417   \n4                               1     1     3    3     1      0  2.653531   \n\n   SCC       FAF       TUE  CALC  MTRANS  \n0    0  0.855400  0.000000   1.0       0  \n1    0  1.000000  0.000000   1.0       0  \n2    0  0.000000  0.250502   1.0       0  \n3    0  0.094851  0.000000   1.0       0  \n4    0  0.000000  0.741069   1.0       0  ",
      "text/html": "<div>\n<style scoped>\n    .dataframe tbody tr th:only-of-type {\n        vertical-align: middle;\n    }\n\n    .dataframe tbody tr th {\n        vertical-align: top;\n    }\n\n    .dataframe thead th {\n        text-align: right;\n    }\n</style>\n<table border=\"1\" class=\"dataframe\">\n  <thead>\n    <tr style=\"text-align: right;\">\n      <th></th>\n      <th>id</th>\n      <th>Gender</th>\n      <th>Age</th>\n      <th>Height</th>\n      <th>Weight</th>\n      <th>family_history_with_overweight</th>\n      <th>FAVC</th>\n      <th>FCVC</th>\n      <th>NCP</th>\n      <th>CAEC</th>\n      <th>SMOKE</th>\n      <th>CH2O</th>\n      <th>SCC</th>\n      <th>FAF</th>\n      <th>TUE</th>\n      <th>CALC</th>\n      <th>MTRANS</th>\n    </tr>\n  </thead>\n  <tbody>\n    <tr>\n      <th>0</th>\n      <td>20758</td>\n      <td>1</td>\n      <td>26.899886</td>\n      <td>1.848294</td>\n      <td>120.644178</td>\n      <td>1</td>\n      <td>1</td>\n      <td>3</td>\n      <td>3</td>\n      <td>1</td>\n      <td>0</td>\n      <td>2.825629</td>\n      <td>0</td>\n      <td>0.855400</td>\n      <td>0.000000</td>\n      <td>1.0</td>\n      <td>0</td>\n    </tr>\n    <tr>\n      <th>1</th>\n      <td>20759</td>\n      <td>0</td>\n      <td>21.000000</td>\n      <td>1.600000</td>\n      <td>66.000000</td>\n      <td>1</td>\n      <td>1</td>\n      <td>2</td>\n      <td>1</td>\n      <td>1</td>\n      <td>0</td>\n      <td>3.000000</td>\n      <td>0</td>\n      <td>1.000000</td>\n      <td>0.000000</td>\n      <td>1.0</td>\n      <td>0</td>\n    </tr>\n    <tr>\n      <th>2</th>\n      <td>20760</td>\n      <td>0</td>\n      <td>26.000000</td>\n      <td>1.643355</td>\n      <td>111.600553</td>\n      <td>1</td>\n      <td>1</td>\n      <td>3</td>\n      <td>3</td>\n      <td>1</td>\n      <td>0</td>\n      <td>2.621877</td>\n      <td>0</td>\n      <td>0.000000</td>\n      <td>0.250502</td>\n      <td>1.0</td>\n      <td>0</td>\n    </tr>\n    <tr>\n      <th>3</th>\n      <td>20761</td>\n      <td>1</td>\n      <td>20.979254</td>\n      <td>1.553127</td>\n      <td>103.669116</td>\n      <td>1</td>\n      <td>1</td>\n      <td>2</td>\n      <td>3</td>\n      <td>1</td>\n      <td>0</td>\n      <td>2.786417</td>\n      <td>0</td>\n      <td>0.094851</td>\n      <td>0.000000</td>\n      <td>1.0</td>\n      <td>0</td>\n    </tr>\n    <tr>\n      <th>4</th>\n      <td>20762</td>\n      <td>0</td>\n      <td>26.000000</td>\n      <td>1.627396</td>\n      <td>104.835346</td>\n      <td>1</td>\n      <td>1</td>\n      <td>3</td>\n      <td>3</td>\n      <td>1</td>\n      <td>0</td>\n      <td>2.653531</td>\n      <td>0</td>\n      <td>0.000000</td>\n      <td>0.741069</td>\n      <td>1.0</td>\n      <td>0</td>\n    </tr>\n  </tbody>\n</table>\n</div>"
     },
     "execution_count": 44,
     "metadata": {},
     "output_type": "execute_result"
    }
   ],
   "source": [
    "test_df.head()"
   ],
   "metadata": {
    "collapsed": false
   }
  },
  {
   "cell_type": "markdown",
   "source": [
    "There are 2 nans, we fill it with common value which is 1.0 and then transfer it to integers"
   ],
   "metadata": {
    "collapsed": false
   }
  },
  {
   "cell_type": "code",
   "execution_count": 53,
   "outputs": [
    {
     "data": {
      "text/plain": "CALC\n1.0    9981\n0.0    3513\n2.0     346\nName: count, dtype: int64"
     },
     "execution_count": 53,
     "metadata": {},
     "output_type": "execute_result"
    }
   ],
   "source": [
    "test_df[\"CALC\"] = test_df[\"CALC\"].replace(\"common_value\",1.0)\n",
    "test_df[\"CALC\"].value_counts()"
   ],
   "metadata": {
    "collapsed": false
   }
  },
  {
   "cell_type": "code",
   "execution_count": 54,
   "outputs": [],
   "source": [
    "test_df[\"CALC\"] = test_df[\"CALC\"].astype(int)"
   ],
   "metadata": {
    "collapsed": false
   }
  },
  {
   "cell_type": "code",
   "execution_count": 56,
   "outputs": [
    {
     "name": "stdout",
     "output_type": "stream",
     "text": [
      "<class 'pandas.core.frame.DataFrame'>\n",
      "RangeIndex: 20758 entries, 0 to 20757\n",
      "Data columns (total 17 columns):\n",
      " #   Column                          Non-Null Count  Dtype  \n",
      "---  ------                          --------------  -----  \n",
      " 0   Gender                          20758 non-null  int64  \n",
      " 1   Age                             20758 non-null  float64\n",
      " 2   Height                          20758 non-null  float64\n",
      " 3   Weight                          20758 non-null  float64\n",
      " 4   family_history_with_overweight  20758 non-null  int64  \n",
      " 5   FAVC                            20758 non-null  int64  \n",
      " 6   FCVC                            20758 non-null  int32  \n",
      " 7   NCP                             20758 non-null  int32  \n",
      " 8   CAEC                            20758 non-null  int64  \n",
      " 9   SMOKE                           20758 non-null  int64  \n",
      " 10  CH2O                            20758 non-null  float64\n",
      " 11  SCC                             20758 non-null  int64  \n",
      " 12  FAF                             20758 non-null  float64\n",
      " 13  TUE                             20758 non-null  float64\n",
      " 14  CALC                            20758 non-null  int64  \n",
      " 15  MTRANS                          20758 non-null  int64  \n",
      " 16  NObeyesdad                      20758 non-null  int64  \n",
      "dtypes: float64(6), int32(2), int64(9)\n",
      "memory usage: 2.5 MB\n"
     ]
    }
   ],
   "source": [
    "train_df.info()"
   ],
   "metadata": {
    "collapsed": false
   }
  },
  {
   "cell_type": "markdown",
   "source": [
    "# Data Scaling\n",
    "\n",
    "For categorical data we leave them there, while for float data we transform them."
   ],
   "metadata": {
    "collapsed": false
   }
  },
  {
   "cell_type": "code",
   "execution_count": 57,
   "outputs": [],
   "source": [
    "# first split the feature df and target df\n",
    "X_train = train_df.drop(\"NObeyesdad\", axis=1)\n",
    "Y_train = train_df[\"NObeyesdad\"]\n",
    "X_test = test_df.drop(\"id\", axis=1).copy()"
   ],
   "metadata": {
    "collapsed": false
   }
  },
  {
   "cell_type": "code",
   "execution_count": 58,
   "outputs": [],
   "source": [
    "from sklearn.compose import ColumnTransformer\n",
    "from sklearn.preprocessing import MaxAbsScaler"
   ],
   "metadata": {
    "collapsed": false
   }
  },
  {
   "cell_type": "code",
   "execution_count": 59,
   "outputs": [],
   "source": [
    "# Assuming 'df' is your DataFrame\n",
    "train_float_columns = train_df.select_dtypes(include=['float64']).columns\n",
    "train_categorical_columns = train_df.select_dtypes(include=['int64', 'int32']).columns"
   ],
   "metadata": {
    "collapsed": false
   }
  },
  {
   "cell_type": "code",
   "execution_count": 60,
   "outputs": [],
   "source": [
    "preprocessor = ColumnTransformer(\n",
    "    transformers=[\n",
    "        ('float', MaxAbsScaler(), train_float_columns),],\n",
    "    remainder='passthrough'  # This leaves the rest of the columns untransformed\n",
    ")\n"
   ],
   "metadata": {
    "collapsed": false
   }
  },
  {
   "cell_type": "code",
   "execution_count": 61,
   "outputs": [
    {
     "data": {
      "text/plain": "ColumnTransformer(remainder='passthrough',\n                  transformers=[('float', MaxAbsScaler(),\n                                 Index(['Age', 'Height', 'Weight', 'CH2O', 'FAF', 'TUE'], dtype='object'))])",
      "text/html": "<style>#sk-container-id-1 {color: black;}#sk-container-id-1 pre{padding: 0;}#sk-container-id-1 div.sk-toggleable {background-color: white;}#sk-container-id-1 label.sk-toggleable__label {cursor: pointer;display: block;width: 100%;margin-bottom: 0;padding: 0.3em;box-sizing: border-box;text-align: center;}#sk-container-id-1 label.sk-toggleable__label-arrow:before {content: \"▸\";float: left;margin-right: 0.25em;color: #696969;}#sk-container-id-1 label.sk-toggleable__label-arrow:hover:before {color: black;}#sk-container-id-1 div.sk-estimator:hover label.sk-toggleable__label-arrow:before {color: black;}#sk-container-id-1 div.sk-toggleable__content {max-height: 0;max-width: 0;overflow: hidden;text-align: left;background-color: #f0f8ff;}#sk-container-id-1 div.sk-toggleable__content pre {margin: 0.2em;color: black;border-radius: 0.25em;background-color: #f0f8ff;}#sk-container-id-1 input.sk-toggleable__control:checked~div.sk-toggleable__content {max-height: 200px;max-width: 100%;overflow: auto;}#sk-container-id-1 input.sk-toggleable__control:checked~label.sk-toggleable__label-arrow:before {content: \"▾\";}#sk-container-id-1 div.sk-estimator input.sk-toggleable__control:checked~label.sk-toggleable__label {background-color: #d4ebff;}#sk-container-id-1 div.sk-label input.sk-toggleable__control:checked~label.sk-toggleable__label {background-color: #d4ebff;}#sk-container-id-1 input.sk-hidden--visually {border: 0;clip: rect(1px 1px 1px 1px);clip: rect(1px, 1px, 1px, 1px);height: 1px;margin: -1px;overflow: hidden;padding: 0;position: absolute;width: 1px;}#sk-container-id-1 div.sk-estimator {font-family: monospace;background-color: #f0f8ff;border: 1px dotted black;border-radius: 0.25em;box-sizing: border-box;margin-bottom: 0.5em;}#sk-container-id-1 div.sk-estimator:hover {background-color: #d4ebff;}#sk-container-id-1 div.sk-parallel-item::after {content: \"\";width: 100%;border-bottom: 1px solid gray;flex-grow: 1;}#sk-container-id-1 div.sk-label:hover label.sk-toggleable__label {background-color: #d4ebff;}#sk-container-id-1 div.sk-serial::before {content: \"\";position: absolute;border-left: 1px solid gray;box-sizing: border-box;top: 0;bottom: 0;left: 50%;z-index: 0;}#sk-container-id-1 div.sk-serial {display: flex;flex-direction: column;align-items: center;background-color: white;padding-right: 0.2em;padding-left: 0.2em;position: relative;}#sk-container-id-1 div.sk-item {position: relative;z-index: 1;}#sk-container-id-1 div.sk-parallel {display: flex;align-items: stretch;justify-content: center;background-color: white;position: relative;}#sk-container-id-1 div.sk-item::before, #sk-container-id-1 div.sk-parallel-item::before {content: \"\";position: absolute;border-left: 1px solid gray;box-sizing: border-box;top: 0;bottom: 0;left: 50%;z-index: -1;}#sk-container-id-1 div.sk-parallel-item {display: flex;flex-direction: column;z-index: 1;position: relative;background-color: white;}#sk-container-id-1 div.sk-parallel-item:first-child::after {align-self: flex-end;width: 50%;}#sk-container-id-1 div.sk-parallel-item:last-child::after {align-self: flex-start;width: 50%;}#sk-container-id-1 div.sk-parallel-item:only-child::after {width: 0;}#sk-container-id-1 div.sk-dashed-wrapped {border: 1px dashed gray;margin: 0 0.4em 0.5em 0.4em;box-sizing: border-box;padding-bottom: 0.4em;background-color: white;}#sk-container-id-1 div.sk-label label {font-family: monospace;font-weight: bold;display: inline-block;line-height: 1.2em;}#sk-container-id-1 div.sk-label-container {text-align: center;}#sk-container-id-1 div.sk-container {/* jupyter's `normalize.less` sets `[hidden] { display: none; }` but bootstrap.min.css set `[hidden] { display: none !important; }` so we also need the `!important` here to be able to override the default hidden behavior on the sphinx rendered scikit-learn.org. See: https://github.com/scikit-learn/scikit-learn/issues/21755 */display: inline-block !important;position: relative;}#sk-container-id-1 div.sk-text-repr-fallback {display: none;}</style><div id=\"sk-container-id-1\" class=\"sk-top-container\"><div class=\"sk-text-repr-fallback\"><pre>ColumnTransformer(remainder=&#x27;passthrough&#x27;,\n                  transformers=[(&#x27;float&#x27;, MaxAbsScaler(),\n                                 Index([&#x27;Age&#x27;, &#x27;Height&#x27;, &#x27;Weight&#x27;, &#x27;CH2O&#x27;, &#x27;FAF&#x27;, &#x27;TUE&#x27;], dtype=&#x27;object&#x27;))])</pre><b>In a Jupyter environment, please rerun this cell to show the HTML representation or trust the notebook. <br />On GitHub, the HTML representation is unable to render, please try loading this page with nbviewer.org.</b></div><div class=\"sk-container\" hidden><div class=\"sk-item sk-dashed-wrapped\"><div class=\"sk-label-container\"><div class=\"sk-label sk-toggleable\"><input class=\"sk-toggleable__control sk-hidden--visually\" id=\"sk-estimator-id-1\" type=\"checkbox\" ><label for=\"sk-estimator-id-1\" class=\"sk-toggleable__label sk-toggleable__label-arrow\">ColumnTransformer</label><div class=\"sk-toggleable__content\"><pre>ColumnTransformer(remainder=&#x27;passthrough&#x27;,\n                  transformers=[(&#x27;float&#x27;, MaxAbsScaler(),\n                                 Index([&#x27;Age&#x27;, &#x27;Height&#x27;, &#x27;Weight&#x27;, &#x27;CH2O&#x27;, &#x27;FAF&#x27;, &#x27;TUE&#x27;], dtype=&#x27;object&#x27;))])</pre></div></div></div><div class=\"sk-parallel\"><div class=\"sk-parallel-item\"><div class=\"sk-item\"><div class=\"sk-label-container\"><div class=\"sk-label sk-toggleable\"><input class=\"sk-toggleable__control sk-hidden--visually\" id=\"sk-estimator-id-2\" type=\"checkbox\" ><label for=\"sk-estimator-id-2\" class=\"sk-toggleable__label sk-toggleable__label-arrow\">float</label><div class=\"sk-toggleable__content\"><pre>Index([&#x27;Age&#x27;, &#x27;Height&#x27;, &#x27;Weight&#x27;, &#x27;CH2O&#x27;, &#x27;FAF&#x27;, &#x27;TUE&#x27;], dtype=&#x27;object&#x27;)</pre></div></div></div><div class=\"sk-serial\"><div class=\"sk-item\"><div class=\"sk-estimator sk-toggleable\"><input class=\"sk-toggleable__control sk-hidden--visually\" id=\"sk-estimator-id-3\" type=\"checkbox\" ><label for=\"sk-estimator-id-3\" class=\"sk-toggleable__label sk-toggleable__label-arrow\">MaxAbsScaler</label><div class=\"sk-toggleable__content\"><pre>MaxAbsScaler()</pre></div></div></div></div></div></div><div class=\"sk-parallel-item\"><div class=\"sk-item\"><div class=\"sk-label-container\"><div class=\"sk-label sk-toggleable\"><input class=\"sk-toggleable__control sk-hidden--visually\" id=\"sk-estimator-id-4\" type=\"checkbox\" ><label for=\"sk-estimator-id-4\" class=\"sk-toggleable__label sk-toggleable__label-arrow\">remainder</label><div class=\"sk-toggleable__content\"><pre>[&#x27;Gender&#x27;, &#x27;family_history_with_overweight&#x27;, &#x27;FAVC&#x27;, &#x27;FCVC&#x27;, &#x27;NCP&#x27;, &#x27;CAEC&#x27;, &#x27;SMOKE&#x27;, &#x27;SCC&#x27;, &#x27;CALC&#x27;, &#x27;MTRANS&#x27;]</pre></div></div></div><div class=\"sk-serial\"><div class=\"sk-item\"><div class=\"sk-estimator sk-toggleable\"><input class=\"sk-toggleable__control sk-hidden--visually\" id=\"sk-estimator-id-5\" type=\"checkbox\" ><label for=\"sk-estimator-id-5\" class=\"sk-toggleable__label sk-toggleable__label-arrow\">passthrough</label><div class=\"sk-toggleable__content\"><pre>passthrough</pre></div></div></div></div></div></div></div></div></div></div>"
     },
     "execution_count": 61,
     "metadata": {},
     "output_type": "execute_result"
    }
   ],
   "source": [
    "preprocessor.fit(X_train)"
   ],
   "metadata": {
    "collapsed": false
   }
  },
  {
   "cell_type": "code",
   "execution_count": 62,
   "outputs": [],
   "source": [
    "X_train_transformed = preprocessor.transform(X_train)\n",
    "X_test_transformed = preprocessor.transform(X_test)"
   ],
   "metadata": {
    "collapsed": false
   }
  },
  {
   "cell_type": "markdown",
   "source": [
    "# Models\n",
    "\n",
    "## Random Forest"
   ],
   "metadata": {
    "collapsed": false
   }
  },
  {
   "cell_type": "code",
   "execution_count": 63,
   "outputs": [
    {
     "data": {
      "text/plain": "100.0"
     },
     "execution_count": 63,
     "metadata": {},
     "output_type": "execute_result"
    }
   ],
   "source": [
    "random_forest = RandomForestClassifier(n_estimators=100)\n",
    "random_forest.fit(X_train, Y_train)\n",
    "\n",
    "Y_prediction = random_forest.predict(X_test)\n",
    "\n",
    "random_forest.score(X_train, Y_train)\n",
    "acc_random_forest = round(random_forest.score(X_train, Y_train) * 100, 2)\n",
    "acc_random_forest"
   ],
   "metadata": {
    "collapsed": false
   }
  },
  {
   "cell_type": "code",
   "execution_count": 64,
   "outputs": [],
   "source": [
    "from sklearn.model_selection import cross_val_score"
   ],
   "metadata": {
    "collapsed": false
   }
  },
  {
   "cell_type": "markdown",
   "source": [
    "We use 10-fold validation"
   ],
   "metadata": {
    "collapsed": false
   }
  },
  {
   "cell_type": "code",
   "execution_count": 65,
   "outputs": [
    {
     "name": "stdout",
     "output_type": "stream",
     "text": [
      "Scores:  [0.9022158  0.89306358 0.89643545 0.88969171 0.90414258 0.9026975\n",
      " 0.90077071 0.90414258 0.90313253 0.89686747]\n",
      "Mean Score:  0.899315992292871\n",
      "Std Score:  0.004786748894149531\n"
     ]
    }
   ],
   "source": [
    "rf = RandomForestClassifier(n_estimators=100)\n",
    "# 10-fold validation, therefore cv=10\n",
    "scores = cross_val_score(rf, X_train, Y_train, cv=10, scoring='accuracy')\n",
    "\n",
    "print(\"Scores: \", scores)\n",
    "print(\"Mean Score: \", scores.mean())\n",
    "print(\"Std Score: \", scores.std())"
   ],
   "metadata": {
    "collapsed": false
   }
  },
  {
   "cell_type": "markdown",
   "source": [
    "## Logistic Regression"
   ],
   "metadata": {
    "collapsed": false
   }
  },
  {
   "cell_type": "code",
   "execution_count": 67,
   "outputs": [
    {
     "data": {
      "text/plain": "69.59"
     },
     "execution_count": 67,
     "metadata": {},
     "output_type": "execute_result"
    }
   ],
   "source": [
    "# logreg = LogisticRegression(class_weight='balanced', multi_class='multinomial')\n",
    "logreg = LogisticRegression()\n",
    "logreg.fit(X_train, Y_train)\n",
    "\n",
    "Y_pred = logreg.predict(X_test)\n",
    "\n",
    "acc_log = round(logreg.score(X_train, Y_train) * 100, 2)\n",
    "acc_log"
   ],
   "metadata": {
    "collapsed": false
   }
  },
  {
   "cell_type": "code",
   "execution_count": 68,
   "outputs": [
    {
     "name": "stdout",
     "output_type": "stream",
     "text": [
      "Scores:  [0.69460501 0.68930636 0.70712909 0.67822736 0.68063584 0.68641618\n",
      " 0.69749518 0.68786127 0.68963855 0.68144578]\n",
      "Mean Score:  0.6892760637927433\n",
      "Std Score:  0.008264597939937966\n"
     ]
    }
   ],
   "source": [
    "logreg = LogisticRegression()\n",
    "# 10-fold validation, therefore cv=10\n",
    "scores = cross_val_score(logreg, X_train, Y_train, cv=10, scoring='accuracy')\n",
    "\n",
    "print(\"Scores: \", scores)\n",
    "print(\"Mean Score: \", scores.mean())\n",
    "print(\"Std Score: \", scores.std())"
   ],
   "metadata": {
    "collapsed": false
   }
  },
  {
   "cell_type": "markdown",
   "source": [
    "## Decision Tree"
   ],
   "metadata": {
    "collapsed": false
   }
  },
  {
   "cell_type": "code",
   "execution_count": 69,
   "outputs": [
    {
     "data": {
      "text/plain": "100.0"
     },
     "execution_count": 69,
     "metadata": {},
     "output_type": "execute_result"
    }
   ],
   "source": [
    "decision_tree = DecisionTreeClassifier()\n",
    "decision_tree.fit(X_train, Y_train)\n",
    "Y_pred = decision_tree.predict(X_test)\n",
    "acc_decision_tree = round(decision_tree.score(X_train, Y_train) * 100, 2)\n",
    "acc_decision_tree"
   ],
   "metadata": {
    "collapsed": false
   }
  },
  {
   "cell_type": "code",
   "execution_count": 71,
   "outputs": [
    {
     "name": "stdout",
     "output_type": "stream",
     "text": [
      "Scores:  [0.84585742 0.83526012 0.84200385 0.83959538 0.85356455 0.84007707\n",
      " 0.8482659  0.85163776 0.84915663 0.84963855]\n",
      "Mean Score:  0.8455057223112101\n",
      "Std Score:  0.005677466380582205\n"
     ]
    }
   ],
   "source": [
    "decision_tree = DecisionTreeClassifier(class_weight='balanced')\n",
    "# 10-fold validation, therefore cv=10\n",
    "scores = cross_val_score(decision_tree, X_train, Y_train, cv=10, scoring='accuracy')\n",
    "\n",
    "print(\"Scores: \", scores)\n",
    "print(\"Mean Score: \", scores.mean())\n",
    "print(\"Std Score: \", scores.std())"
   ],
   "metadata": {
    "collapsed": false
   }
  },
  {
   "cell_type": "markdown",
   "source": [
    "## SGD"
   ],
   "metadata": {
    "collapsed": false
   }
  },
  {
   "cell_type": "code",
   "execution_count": 76,
   "outputs": [
    {
     "data": {
      "text/plain": "68.87"
     },
     "execution_count": 76,
     "metadata": {},
     "output_type": "execute_result"
    }
   ],
   "source": [
    "sgd = linear_model.SGDClassifier(max_iter=100, tol=None)\n",
    "sgd.fit(X_train, Y_train)\n",
    "Y_pred = sgd.predict(X_test) # predict on the test data\n",
    "\n",
    "sgd.score(X_train, Y_train)\n",
    "acc_sgd = round(sgd.score(X_train, Y_train) * 100, 2)\n",
    "acc_sgd"
   ],
   "metadata": {
    "collapsed": false
   }
  },
  {
   "cell_type": "markdown",
   "source": [
    "## KNN Classifier"
   ],
   "metadata": {
    "collapsed": false
   }
  },
  {
   "cell_type": "code",
   "execution_count": 77,
   "outputs": [
    {
     "data": {
      "text/plain": "89.6"
     },
     "execution_count": 77,
     "metadata": {},
     "output_type": "execute_result"
    }
   ],
   "source": [
    "knn = KNeighborsClassifier(n_neighbors = 4)\n",
    "knn.fit(X_train, Y_train)\n",
    "Y_pred = knn.predict(X_test)\n",
    "acc_knn = round(knn.score(X_train, Y_train) * 100, 2)\n",
    "acc_knn"
   ],
   "metadata": {
    "collapsed": false
   }
  },
  {
   "cell_type": "code",
   "execution_count": 78,
   "outputs": [
    {
     "name": "stdout",
     "output_type": "stream",
     "text": [
      "Scores:  [0.84682081 0.83574181 0.84633911 0.83429672 0.84152216 0.85115607\n",
      " 0.83477842 0.84585742 0.83951807 0.84963855]\n",
      "Mean Score:  0.8425669150590803\n",
      "Std Score:  0.005941042587365122\n"
     ]
    }
   ],
   "source": [
    "knn = KNeighborsClassifier(n_neighbors = 4)\n",
    "# 10-fold validation, therefore cv=10\n",
    "scores = cross_val_score(knn, X_train, Y_train, cv=10, scoring='accuracy')\n",
    "\n",
    "print(\"Scores: \", scores)\n",
    "print(\"Mean Score: \", scores.mean())\n",
    "print(\"Std Score: \", scores.std())"
   ],
   "metadata": {
    "collapsed": false
   }
  },
  {
   "cell_type": "markdown",
   "source": [
    "## Extreme Gradient Boosting (XGBoost)"
   ],
   "metadata": {
    "collapsed": false
   }
  },
  {
   "cell_type": "code",
   "execution_count": 79,
   "outputs": [],
   "source": [
    "from xgboost import XGBClassifier"
   ],
   "metadata": {
    "collapsed": false
   }
  },
  {
   "cell_type": "code",
   "execution_count": 80,
   "outputs": [
    {
     "data": {
      "text/plain": "97.94"
     },
     "execution_count": 80,
     "metadata": {},
     "output_type": "execute_result"
    }
   ],
   "source": [
    "xgb = XGBClassifier()\n",
    "xgb.fit(X_train, Y_train)\n",
    "Y_pred = xgb.predict(X_test)\n",
    "acc_xgb = round(xgb.score(X_train, Y_train) * 100, 2)\n",
    "acc_xgb"
   ],
   "metadata": {
    "collapsed": false
   }
  },
  {
   "cell_type": "code",
   "execution_count": 81,
   "outputs": [
    {
     "name": "stdout",
     "output_type": "stream",
     "text": [
      "Scores:  [0.9026975  0.9022158  0.90462428 0.89691715 0.91425819 0.9022158\n",
      " 0.90414258 0.90510597 0.90409639 0.90746988]\n",
      "Mean Score:  0.9043743529029411\n",
      "Std Score:  0.004192155381979199\n"
     ]
    }
   ],
   "source": [
    "xgb = XGBClassifier()\n",
    "# 10-fold validation, therefore cv=10\n",
    "scores = cross_val_score(xgb, X_train, Y_train, cv=10, scoring='accuracy')\n",
    "\n",
    "print(\"Scores: \", scores)\n",
    "print(\"Mean Score: \", scores.mean())\n",
    "print(\"Std Score: \", scores.std())"
   ],
   "metadata": {
    "collapsed": false
   }
  },
  {
   "cell_type": "markdown",
   "source": [
    "## Light Gradient Boosting Machine"
   ],
   "metadata": {
    "collapsed": false
   }
  },
  {
   "cell_type": "code",
   "execution_count": 82,
   "outputs": [],
   "source": [
    "from lightgbm import LGBMClassifier"
   ],
   "metadata": {
    "collapsed": false
   }
  },
  {
   "cell_type": "code",
   "execution_count": 83,
   "outputs": [
    {
     "name": "stdout",
     "output_type": "stream",
     "text": [
      "[LightGBM] [Info] Auto-choosing row-wise multi-threading, the overhead of testing was 0.000849 seconds.\n",
      "You can set `force_row_wise=true` to remove the overhead.\n",
      "And if memory is not enough, you can set `force_col_wise=true`.\n",
      "[LightGBM] [Info] Total Bins 1561\n",
      "[LightGBM] [Info] Number of data points in the train set: 20758, number of used features: 16\n",
      "[LightGBM] [Info] Start training from score -1.907353\n",
      "[LightGBM] [Info] Start training from score -2.107483\n",
      "[LightGBM] [Info] Start training from score -2.146276\n",
      "[LightGBM] [Info] Start training from score -2.107879\n",
      "[LightGBM] [Info] Start training from score -1.964779\n",
      "[LightGBM] [Info] Start training from score -1.854892\n",
      "[LightGBM] [Info] Start training from score -1.635203\n"
     ]
    },
    {
     "data": {
      "text/plain": "97.1"
     },
     "execution_count": 83,
     "metadata": {},
     "output_type": "execute_result"
    }
   ],
   "source": [
    "lgbm = LGBMClassifier()\n",
    "lgbm.fit(X_train, Y_train)\n",
    "Y_pred = lgbm.predict(X_test)\n",
    "acc_lgbm = round(lgbm.score(X_train, Y_train) * 100, 2)\n",
    "acc_lgbm"
   ],
   "metadata": {
    "collapsed": false
   }
  },
  {
   "cell_type": "code",
   "execution_count": 84,
   "outputs": [
    {
     "name": "stdout",
     "output_type": "stream",
     "text": [
      "[LightGBM] [Info] Auto-choosing row-wise multi-threading, the overhead of testing was 0.000771 seconds.\n",
      "You can set `force_row_wise=true` to remove the overhead.\n",
      "And if memory is not enough, you can set `force_col_wise=true`.\n",
      "[LightGBM] [Info] Total Bins 1561\n",
      "[LightGBM] [Info] Number of data points in the train set: 18682, number of used features: 16\n",
      "[LightGBM] [Info] Start training from score -1.907270\n",
      "[LightGBM] [Info] Start training from score -2.107340\n",
      "[LightGBM] [Info] Start training from score -2.145945\n",
      "[LightGBM] [Info] Start training from score -2.108221\n",
      "[LightGBM] [Info] Start training from score -1.964768\n",
      "[LightGBM] [Info] Start training from score -1.854950\n",
      "[LightGBM] [Info] Start training from score -1.635302\n",
      "[LightGBM] [Info] Auto-choosing row-wise multi-threading, the overhead of testing was 0.000677 seconds.\n",
      "You can set `force_row_wise=true` to remove the overhead.\n",
      "And if memory is not enough, you can set `force_col_wise=true`.\n",
      "[LightGBM] [Info] Total Bins 1561\n",
      "[LightGBM] [Info] Number of data points in the train set: 18682, number of used features: 16\n",
      "[LightGBM] [Info] Start training from score -1.907270\n",
      "[LightGBM] [Info] Start training from score -2.107340\n",
      "[LightGBM] [Info] Start training from score -2.146402\n",
      "[LightGBM] [Info] Start training from score -2.108221\n",
      "[LightGBM] [Info] Start training from score -1.964768\n",
      "[LightGBM] [Info] Start training from score -1.854608\n",
      "[LightGBM] [Info] Start training from score -1.635302\n",
      "[LightGBM] [Info] Auto-choosing row-wise multi-threading, the overhead of testing was 0.000819 seconds.\n",
      "You can set `force_row_wise=true` to remove the overhead.\n",
      "And if memory is not enough, you can set `force_col_wise=true`.\n",
      "[LightGBM] [Info] Total Bins 1561\n",
      "[LightGBM] [Info] Number of data points in the train set: 18682, number of used features: 16\n",
      "[LightGBM] [Info] Start training from score -1.907631\n",
      "[LightGBM] [Info] Start training from score -2.107340\n",
      "[LightGBM] [Info] Start training from score -2.146402\n",
      "[LightGBM] [Info] Start training from score -2.107781\n",
      "[LightGBM] [Info] Start training from score -1.964768\n",
      "[LightGBM] [Info] Start training from score -1.854608\n",
      "[LightGBM] [Info] Start training from score -1.635302\n",
      "[LightGBM] [Info] Auto-choosing row-wise multi-threading, the overhead of testing was 0.000682 seconds.\n",
      "You can set `force_row_wise=true` to remove the overhead.\n",
      "And if memory is not enough, you can set `force_col_wise=true`.\n",
      "[LightGBM] [Info] Total Bins 1561\n",
      "[LightGBM] [Info] Number of data points in the train set: 18682, number of used features: 16\n",
      "[LightGBM] [Info] Start training from score -1.907631\n",
      "[LightGBM] [Info] Start training from score -2.107340\n",
      "[LightGBM] [Info] Start training from score -2.146402\n",
      "[LightGBM] [Info] Start training from score -2.107781\n",
      "[LightGBM] [Info] Start training from score -1.964768\n",
      "[LightGBM] [Info] Start training from score -1.854950\n",
      "[LightGBM] [Info] Start training from score -1.635028\n",
      "[LightGBM] [Info] Auto-choosing row-wise multi-threading, the overhead of testing was 0.000796 seconds.\n",
      "You can set `force_row_wise=true` to remove the overhead.\n",
      "And if memory is not enough, you can set `force_col_wise=true`.\n",
      "[LightGBM] [Info] Total Bins 1561\n",
      "[LightGBM] [Info] Number of data points in the train set: 18682, number of used features: 16\n",
      "[LightGBM] [Info] Start training from score -1.907270\n",
      "[LightGBM] [Info] Start training from score -2.107781\n",
      "[LightGBM] [Info] Start training from score -2.146402\n",
      "[LightGBM] [Info] Start training from score -2.107781\n",
      "[LightGBM] [Info] Start training from score -1.964768\n",
      "[LightGBM] [Info] Start training from score -1.854950\n",
      "[LightGBM] [Info] Start training from score -1.635028\n",
      "[LightGBM] [Info] Auto-choosing row-wise multi-threading, the overhead of testing was 0.000802 seconds.\n",
      "You can set `force_row_wise=true` to remove the overhead.\n",
      "And if memory is not enough, you can set `force_col_wise=true`.\n",
      "[LightGBM] [Info] Total Bins 1561\n",
      "[LightGBM] [Info] Number of data points in the train set: 18682, number of used features: 16\n",
      "[LightGBM] [Info] Start training from score -1.907270\n",
      "[LightGBM] [Info] Start training from score -2.107781\n",
      "[LightGBM] [Info] Start training from score -2.146402\n",
      "[LightGBM] [Info] Start training from score -2.107781\n",
      "[LightGBM] [Info] Start training from score -1.964768\n",
      "[LightGBM] [Info] Start training from score -1.854950\n",
      "[LightGBM] [Info] Start training from score -1.635028\n",
      "[LightGBM] [Info] Auto-choosing row-wise multi-threading, the overhead of testing was 0.000800 seconds.\n",
      "You can set `force_row_wise=true` to remove the overhead.\n",
      "And if memory is not enough, you can set `force_col_wise=true`.\n",
      "[LightGBM] [Info] Total Bins 1561\n",
      "[LightGBM] [Info] Number of data points in the train set: 18682, number of used features: 16\n",
      "[LightGBM] [Info] Start training from score -1.907270\n",
      "[LightGBM] [Info] Start training from score -2.107781\n",
      "[LightGBM] [Info] Start training from score -2.146402\n",
      "[LightGBM] [Info] Start training from score -2.107781\n",
      "[LightGBM] [Info] Start training from score -1.964768\n",
      "[LightGBM] [Info] Start training from score -1.854950\n",
      "[LightGBM] [Info] Start training from score -1.635028\n",
      "[LightGBM] [Info] Auto-choosing row-wise multi-threading, the overhead of testing was 0.000700 seconds.\n",
      "You can set `force_row_wise=true` to remove the overhead.\n",
      "And if memory is not enough, you can set `force_col_wise=true`.\n",
      "[LightGBM] [Info] Total Bins 1561\n",
      "[LightGBM] [Info] Number of data points in the train set: 18682, number of used features: 16\n",
      "[LightGBM] [Info] Start training from score -1.907270\n",
      "[LightGBM] [Info] Start training from score -2.107340\n",
      "[LightGBM] [Info] Start training from score -2.146402\n",
      "[LightGBM] [Info] Start training from score -2.107781\n",
      "[LightGBM] [Info] Start training from score -1.964768\n",
      "[LightGBM] [Info] Start training from score -1.854950\n",
      "[LightGBM] [Info] Start training from score -1.635302\n",
      "[LightGBM] [Info] Auto-choosing row-wise multi-threading, the overhead of testing was 0.000817 seconds.\n",
      "You can set `force_row_wise=true` to remove the overhead.\n",
      "And if memory is not enough, you can set `force_col_wise=true`.\n",
      "[LightGBM] [Info] Total Bins 1561\n",
      "[LightGBM] [Info] Number of data points in the train set: 18683, number of used features: 16\n",
      "[LightGBM] [Info] Start training from score -1.907324\n",
      "[LightGBM] [Info] Start training from score -2.107394\n",
      "[LightGBM] [Info] Start training from score -2.145998\n",
      "[LightGBM] [Info] Start training from score -2.107834\n",
      "[LightGBM] [Info] Start training from score -1.964821\n",
      "[LightGBM] [Info] Start training from score -1.855004\n",
      "[LightGBM] [Info] Start training from score -1.635356\n",
      "[LightGBM] [Info] Auto-choosing row-wise multi-threading, the overhead of testing was 0.000773 seconds.\n",
      "You can set `force_row_wise=true` to remove the overhead.\n",
      "And if memory is not enough, you can set `force_col_wise=true`.\n",
      "[LightGBM] [Info] Total Bins 1561\n",
      "[LightGBM] [Info] Number of data points in the train set: 18683, number of used features: 16\n",
      "[LightGBM] [Info] Start training from score -1.907324\n",
      "[LightGBM] [Info] Start training from score -2.107394\n",
      "[LightGBM] [Info] Start training from score -2.145998\n",
      "[LightGBM] [Info] Start training from score -2.107834\n",
      "[LightGBM] [Info] Start training from score -1.964821\n",
      "[LightGBM] [Info] Start training from score -1.855004\n",
      "[LightGBM] [Info] Start training from score -1.635356\n",
      "Scores:  [0.90414258 0.90028902 0.90077071 0.89595376 0.91570328 0.90414258\n",
      " 0.9022158  0.91136802 0.90843373 0.90746988]\n",
      "Mean Score:  0.9050489356269006\n",
      "Std Score:  0.005514666441093924\n"
     ]
    }
   ],
   "source": [
    "lgbm = LGBMClassifier()\n",
    "# 10-fold validation, therefore cv=10\n",
    "scores = cross_val_score(lgbm, X_train, Y_train, cv=10, scoring='accuracy')\n",
    "\n",
    "print(\"Scores: \", scores)\n",
    "print(\"Mean Score: \", scores.mean())\n",
    "print(\"Std Score: \", scores.std())"
   ],
   "metadata": {
    "collapsed": false
   }
  },
  {
   "cell_type": "markdown",
   "source": [
    "We can see that among these models, the light BGM is the best."
   ],
   "metadata": {
    "collapsed": false
   }
  },
  {
   "cell_type": "code",
   "execution_count": 85,
   "outputs": [
    {
     "data": {
      "text/plain": "array([5, 2, 6, ..., 1, 0, 5], dtype=int64)"
     },
     "execution_count": 85,
     "metadata": {},
     "output_type": "execute_result"
    }
   ],
   "source": [
    "Y_pred"
   ],
   "metadata": {
    "collapsed": false
   }
  },
  {
   "cell_type": "code",
   "execution_count": 95,
   "outputs": [],
   "source": [
    "submit_df = pd.DataFrame({'id':test_df['id'], 'NObeyesdad':pd.Series(Y_pred)})"
   ],
   "metadata": {
    "collapsed": false
   }
  },
  {
   "cell_type": "code",
   "execution_count": 96,
   "outputs": [
    {
     "data": {
      "text/plain": "          id  NObeyesdad\n0      20758           5\n1      20759           2\n2      20760           6\n3      20761           4\n4      20762           6\n...      ...         ...\n13835  34593           3\n13836  34594           2\n13837  34595           1\n13838  34596           0\n13839  34597           5\n\n[13840 rows x 2 columns]",
      "text/html": "<div>\n<style scoped>\n    .dataframe tbody tr th:only-of-type {\n        vertical-align: middle;\n    }\n\n    .dataframe tbody tr th {\n        vertical-align: top;\n    }\n\n    .dataframe thead th {\n        text-align: right;\n    }\n</style>\n<table border=\"1\" class=\"dataframe\">\n  <thead>\n    <tr style=\"text-align: right;\">\n      <th></th>\n      <th>id</th>\n      <th>NObeyesdad</th>\n    </tr>\n  </thead>\n  <tbody>\n    <tr>\n      <th>0</th>\n      <td>20758</td>\n      <td>5</td>\n    </tr>\n    <tr>\n      <th>1</th>\n      <td>20759</td>\n      <td>2</td>\n    </tr>\n    <tr>\n      <th>2</th>\n      <td>20760</td>\n      <td>6</td>\n    </tr>\n    <tr>\n      <th>3</th>\n      <td>20761</td>\n      <td>4</td>\n    </tr>\n    <tr>\n      <th>4</th>\n      <td>20762</td>\n      <td>6</td>\n    </tr>\n    <tr>\n      <th>...</th>\n      <td>...</td>\n      <td>...</td>\n    </tr>\n    <tr>\n      <th>13835</th>\n      <td>34593</td>\n      <td>3</td>\n    </tr>\n    <tr>\n      <th>13836</th>\n      <td>34594</td>\n      <td>2</td>\n    </tr>\n    <tr>\n      <th>13837</th>\n      <td>34595</td>\n      <td>1</td>\n    </tr>\n    <tr>\n      <th>13838</th>\n      <td>34596</td>\n      <td>0</td>\n    </tr>\n    <tr>\n      <th>13839</th>\n      <td>34597</td>\n      <td>5</td>\n    </tr>\n  </tbody>\n</table>\n<p>13840 rows × 2 columns</p>\n</div>"
     },
     "execution_count": 96,
     "metadata": {},
     "output_type": "execute_result"
    }
   ],
   "source": [
    "submit_df"
   ],
   "metadata": {
    "collapsed": false
   }
  },
  {
   "cell_type": "code",
   "execution_count": 97,
   "outputs": [],
   "source": [
    "NObey_reverse_mapping = {v:k for k,v in NObey_mapping.items()}"
   ],
   "metadata": {
    "collapsed": false
   }
  },
  {
   "cell_type": "code",
   "execution_count": 98,
   "outputs": [],
   "source": [
    "submit_df['NObeyesdad'] = submit_df['NObeyesdad'].map(NObey_reverse_mapping)"
   ],
   "metadata": {
    "collapsed": false
   }
  },
  {
   "cell_type": "code",
   "execution_count": 99,
   "outputs": [
    {
     "data": {
      "text/plain": "          id           NObeyesdad\n0      20758      Obesity_Type_II\n1      20759   Overweight_Level_I\n2      20760     Obesity_Type_III\n3      20761       Obesity_Type_I\n4      20762     Obesity_Type_III\n...      ...                  ...\n13835  34593  Overweight_Level_II\n13836  34594   Overweight_Level_I\n13837  34595  Insufficient_Weight\n13838  34596        Normal_Weight\n13839  34597      Obesity_Type_II\n\n[13840 rows x 2 columns]",
      "text/html": "<div>\n<style scoped>\n    .dataframe tbody tr th:only-of-type {\n        vertical-align: middle;\n    }\n\n    .dataframe tbody tr th {\n        vertical-align: top;\n    }\n\n    .dataframe thead th {\n        text-align: right;\n    }\n</style>\n<table border=\"1\" class=\"dataframe\">\n  <thead>\n    <tr style=\"text-align: right;\">\n      <th></th>\n      <th>id</th>\n      <th>NObeyesdad</th>\n    </tr>\n  </thead>\n  <tbody>\n    <tr>\n      <th>0</th>\n      <td>20758</td>\n      <td>Obesity_Type_II</td>\n    </tr>\n    <tr>\n      <th>1</th>\n      <td>20759</td>\n      <td>Overweight_Level_I</td>\n    </tr>\n    <tr>\n      <th>2</th>\n      <td>20760</td>\n      <td>Obesity_Type_III</td>\n    </tr>\n    <tr>\n      <th>3</th>\n      <td>20761</td>\n      <td>Obesity_Type_I</td>\n    </tr>\n    <tr>\n      <th>4</th>\n      <td>20762</td>\n      <td>Obesity_Type_III</td>\n    </tr>\n    <tr>\n      <th>...</th>\n      <td>...</td>\n      <td>...</td>\n    </tr>\n    <tr>\n      <th>13835</th>\n      <td>34593</td>\n      <td>Overweight_Level_II</td>\n    </tr>\n    <tr>\n      <th>13836</th>\n      <td>34594</td>\n      <td>Overweight_Level_I</td>\n    </tr>\n    <tr>\n      <th>13837</th>\n      <td>34595</td>\n      <td>Insufficient_Weight</td>\n    </tr>\n    <tr>\n      <th>13838</th>\n      <td>34596</td>\n      <td>Normal_Weight</td>\n    </tr>\n    <tr>\n      <th>13839</th>\n      <td>34597</td>\n      <td>Obesity_Type_II</td>\n    </tr>\n  </tbody>\n</table>\n<p>13840 rows × 2 columns</p>\n</div>"
     },
     "execution_count": 99,
     "metadata": {},
     "output_type": "execute_result"
    }
   ],
   "source": [
    "submit_df"
   ],
   "metadata": {
    "collapsed": false
   }
  },
  {
   "cell_type": "code",
   "execution_count": 100,
   "outputs": [],
   "source": [
    "submit_df.to_csv('submission.csv', index=False)"
   ],
   "metadata": {
    "collapsed": false
   }
  },
  {
   "cell_type": "code",
   "execution_count": null,
   "outputs": [],
   "source": [],
   "metadata": {
    "collapsed": false
   }
  }
 ],
 "metadata": {
  "kernelspec": {
   "name": "ima-env",
   "language": "python",
   "display_name": "ima-env"
  },
  "language_info": {
   "codemirror_mode": {
    "name": "ipython",
    "version": 2
   },
   "file_extension": ".py",
   "mimetype": "text/x-python",
   "name": "python",
   "nbconvert_exporter": "python",
   "pygments_lexer": "ipython2",
   "version": "2.7.6"
  }
 },
 "nbformat": 4,
 "nbformat_minor": 0
}
